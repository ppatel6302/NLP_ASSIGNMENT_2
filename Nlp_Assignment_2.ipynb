{
  "nbformat": 4,
  "nbformat_minor": 0,
  "metadata": {
    "colab": {
      "name": " Nlp_Assignment_2.ipynb",
      "provenance": [],
      "collapsed_sections": [],
      "toc_visible": true
    },
    "kernelspec": {
      "name": "python3",
      "display_name": "Python 3"
    },
    "accelerator": "GPU"
  },
  "cells": [
    {
      "cell_type": "code",
      "metadata": {
        "id": "GhZ-SKnmSUR-",
        "colab_type": "code",
        "colab": {
          "base_uri": "https://localhost:8080/",
          "height": 136
        },
        "outputId": "e2620bac-4dae-4d0a-9584-2e311609f348"
      },
      "source": [
        "import tensorflow.compat.v1 as tf\n",
        "tf.disable_v2_behavior()\n",
        "# Import the pandas library to read our dataset \n",
        "import pandas as pd\n",
        "# Get the train/test split package from sklearn for preparing our dataset to # train and test the model with \n",
        "from sklearn.model_selection import train_test_split\n",
        "# Import the numpy library to work with and manipulate the data \n",
        "# Get the train/test split package from sklearn for preparing our dataset to\n",
        "# train and test the model with\n",
        "from sklearn.model_selection import train_test_split\n",
        "import numpy as np\n",
        "import seaborn as sns\n",
        "import matplotlib.pyplot as plt\n",
        "sns.set(color_codes=True)\n",
        "\n",
        "import nltk \n",
        "import random \n",
        "from nltk.tokenize import word_tokenize\n",
        "nltk.download('punkt') \n",
        "nltk.download('stopwords') \n",
        "#nltk.download('movie_reviews') \n",
        "nltk.download('wordnet') "
      ],
      "execution_count": 99,
      "outputs": [
        {
          "output_type": "stream",
          "text": [
            "[nltk_data] Downloading package punkt to /root/nltk_data...\n",
            "[nltk_data]   Package punkt is already up-to-date!\n",
            "[nltk_data] Downloading package stopwords to /root/nltk_data...\n",
            "[nltk_data]   Package stopwords is already up-to-date!\n",
            "[nltk_data] Downloading package wordnet to /root/nltk_data...\n",
            "[nltk_data]   Package wordnet is already up-to-date!\n"
          ],
          "name": "stdout"
        },
        {
          "output_type": "execute_result",
          "data": {
            "text/plain": [
              "True"
            ]
          },
          "metadata": {
            "tags": []
          },
          "execution_count": 99
        }
      ]
    },
    {
      "cell_type": "code",
      "metadata": {
        "id": "hzgCW0E6SZQe",
        "colab_type": "code",
        "colab": {
          "base_uri": "https://localhost:8080/",
          "height": 204
        },
        "outputId": "e157d7d7-a43d-49a5-c707-d8aef66d4140"
      },
      "source": [
        "# Imported the necessary libraries\n",
        "import csv\n",
        "import urllib.request as urllib2\n",
        "\n",
        "import matplotlib.pyplot as plt\n",
        "from nltk import FreqDist\n",
        "import pandas as pd\n",
        "# Importing data using url\n",
        "url = 'https://raw.githubusercontent.com/cacoderquan/Sentiment-Analysis-on-the-Rotten-Tomatoes-movie-review-dataset/master/train.tsv'\n",
        "response = urllib2.urlopen(url)\n",
        "\n",
        "# reading data using pandas and converting into dataframe\n",
        "df = pd.read_csv(response,delimiter='\\t',encoding='utf-8')\n",
        "df.head()\n"
      ],
      "execution_count": 100,
      "outputs": [
        {
          "output_type": "execute_result",
          "data": {
            "text/html": [
              "<div>\n",
              "<style scoped>\n",
              "    .dataframe tbody tr th:only-of-type {\n",
              "        vertical-align: middle;\n",
              "    }\n",
              "\n",
              "    .dataframe tbody tr th {\n",
              "        vertical-align: top;\n",
              "    }\n",
              "\n",
              "    .dataframe thead th {\n",
              "        text-align: right;\n",
              "    }\n",
              "</style>\n",
              "<table border=\"1\" class=\"dataframe\">\n",
              "  <thead>\n",
              "    <tr style=\"text-align: right;\">\n",
              "      <th></th>\n",
              "      <th>PhraseId</th>\n",
              "      <th>SentenceId</th>\n",
              "      <th>Phrase</th>\n",
              "      <th>Sentiment</th>\n",
              "    </tr>\n",
              "  </thead>\n",
              "  <tbody>\n",
              "    <tr>\n",
              "      <th>0</th>\n",
              "      <td>1</td>\n",
              "      <td>1</td>\n",
              "      <td>A series of escapades demonstrating the adage ...</td>\n",
              "      <td>1</td>\n",
              "    </tr>\n",
              "    <tr>\n",
              "      <th>1</th>\n",
              "      <td>2</td>\n",
              "      <td>1</td>\n",
              "      <td>A series of escapades demonstrating the adage ...</td>\n",
              "      <td>2</td>\n",
              "    </tr>\n",
              "    <tr>\n",
              "      <th>2</th>\n",
              "      <td>3</td>\n",
              "      <td>1</td>\n",
              "      <td>A series</td>\n",
              "      <td>2</td>\n",
              "    </tr>\n",
              "    <tr>\n",
              "      <th>3</th>\n",
              "      <td>4</td>\n",
              "      <td>1</td>\n",
              "      <td>A</td>\n",
              "      <td>2</td>\n",
              "    </tr>\n",
              "    <tr>\n",
              "      <th>4</th>\n",
              "      <td>5</td>\n",
              "      <td>1</td>\n",
              "      <td>series</td>\n",
              "      <td>2</td>\n",
              "    </tr>\n",
              "  </tbody>\n",
              "</table>\n",
              "</div>"
            ],
            "text/plain": [
              "   PhraseId  ...  Sentiment\n",
              "0         1  ...          1\n",
              "1         2  ...          2\n",
              "2         3  ...          2\n",
              "3         4  ...          2\n",
              "4         5  ...          2\n",
              "\n",
              "[5 rows x 4 columns]"
            ]
          },
          "metadata": {
            "tags": []
          },
          "execution_count": 100
        }
      ]
    },
    {
      "cell_type": "code",
      "metadata": {
        "id": "uDU5qDu_Sbj2",
        "colab_type": "code",
        "colab": {
          "base_uri": "https://localhost:8080/",
          "height": 204
        },
        "outputId": "a78f0e32-849e-4e52-974d-b8507d060716"
      },
      "source": [
        "df = df.sample(frac=1).reset_index(drop=True)\n",
        "df.head()"
      ],
      "execution_count": 101,
      "outputs": [
        {
          "output_type": "execute_result",
          "data": {
            "text/html": [
              "<div>\n",
              "<style scoped>\n",
              "    .dataframe tbody tr th:only-of-type {\n",
              "        vertical-align: middle;\n",
              "    }\n",
              "\n",
              "    .dataframe tbody tr th {\n",
              "        vertical-align: top;\n",
              "    }\n",
              "\n",
              "    .dataframe thead th {\n",
              "        text-align: right;\n",
              "    }\n",
              "</style>\n",
              "<table border=\"1\" class=\"dataframe\">\n",
              "  <thead>\n",
              "    <tr style=\"text-align: right;\">\n",
              "      <th></th>\n",
              "      <th>PhraseId</th>\n",
              "      <th>SentenceId</th>\n",
              "      <th>Phrase</th>\n",
              "      <th>Sentiment</th>\n",
              "    </tr>\n",
              "  </thead>\n",
              "  <tbody>\n",
              "    <tr>\n",
              "      <th>0</th>\n",
              "      <td>55173</td>\n",
              "      <td>2751</td>\n",
              "      <td>with moments out of an Alice</td>\n",
              "      <td>2</td>\n",
              "    </tr>\n",
              "    <tr>\n",
              "      <th>1</th>\n",
              "      <td>149287</td>\n",
              "      <td>8123</td>\n",
              "      <td>would n't work without all those gimmicks</td>\n",
              "      <td>2</td>\n",
              "    </tr>\n",
              "    <tr>\n",
              "      <th>2</th>\n",
              "      <td>103889</td>\n",
              "      <td>5479</td>\n",
              "      <td>of great power , yet some members of the audience</td>\n",
              "      <td>2</td>\n",
              "    </tr>\n",
              "    <tr>\n",
              "      <th>3</th>\n",
              "      <td>60530</td>\n",
              "      <td>3056</td>\n",
              "      <td>does n't quite do justice to the awfulness of ...</td>\n",
              "      <td>0</td>\n",
              "    </tr>\n",
              "    <tr>\n",
              "      <th>4</th>\n",
              "      <td>100422</td>\n",
              "      <td>5269</td>\n",
              "      <td>smartly and</td>\n",
              "      <td>3</td>\n",
              "    </tr>\n",
              "  </tbody>\n",
              "</table>\n",
              "</div>"
            ],
            "text/plain": [
              "   PhraseId  ...  Sentiment\n",
              "0     55173  ...          2\n",
              "1    149287  ...          2\n",
              "2    103889  ...          2\n",
              "3     60530  ...          0\n",
              "4    100422  ...          3\n",
              "\n",
              "[5 rows x 4 columns]"
            ]
          },
          "metadata": {
            "tags": []
          },
          "execution_count": 101
        }
      ]
    },
    {
      "cell_type": "code",
      "metadata": {
        "id": "I09uWbN4SfNm",
        "colab_type": "code",
        "colab": {
          "base_uri": "https://localhost:8080/",
          "height": 34
        },
        "outputId": "4835d2bc-b8e9-4ab9-ac1d-5a7decd5abc7"
      },
      "source": [
        "X_train, X_test, Y_train, Y_test = train_test_split(df ['Phrase'], df ['Sentiment'], test_size=0.3, random_state=2003)\n",
        "documents=[]\n",
        "X_train = np.array(X_train.values.tolist())\n",
        "Y_train = np.array(Y_train.values.tolist())\n",
        "\n",
        "\n",
        "for i in range(len(X_train)):\n",
        "  documents.append([list(word_tokenize(X_train[i])), Y_train[i]]) \n",
        "\n",
        "X_test = np.array(X_test.values.tolist())\n",
        "Y_test = np.array(Y_test.values.tolist())\n",
        "for i in range(len(X_test)):\n",
        "  documents.append([list(word_tokenize(X_test[i])), Y_test[i]]) \n",
        "\n",
        "documents[0]"
      ],
      "execution_count": 102,
      "outputs": [
        {
          "output_type": "execute_result",
          "data": {
            "text/plain": [
              "[['with', 'a', 'momentum', 'that', 'never', 'lets', 'up'], 4]"
            ]
          },
          "metadata": {
            "tags": []
          },
          "execution_count": 102
        }
      ]
    },
    {
      "cell_type": "code",
      "metadata": {
        "id": "H6ccNGN3WvQY",
        "colab_type": "code",
        "colab": {}
      },
      "source": [
        "from nltk.corpus import stopwords \n",
        "from nltk.stem import WordNetLemmatizer, PorterStemmer, LancasterStemmer \n",
        "porter = PorterStemmer() \n",
        "lancaster=LancasterStemmer() \n",
        "wordnet_lemmatizer = WordNetLemmatizer() \n",
        "stopwords_en = stopwords.words(\"english\") \n",
        "punctuations=\"?:!.,;'\\\"-()\"\n",
        "#parameters to adjust to see the impact on outcome \n",
        "remove_stopwords = True\n",
        "useStemming = False\n",
        "useLemma = False\n",
        "removePuncs = True\n"
      ],
      "execution_count": 0,
      "outputs": []
    },
    {
      "cell_type": "code",
      "metadata": {
        "id": "wibkp1lHWxuf",
        "colab_type": "code",
        "colab": {
          "base_uri": "https://localhost:8080/",
          "height": 34
        },
        "outputId": "28d9ad32-fee6-4164-9f84-66abaff6bd99"
      },
      "source": [
        "for l in range(len(documents)):                   #For each review document \n",
        "  label = documents[l][1]                         #Save review label \n",
        "  tmpReview = []                                  #Placeholder list for new review \n",
        "  for w in documents[l][0]:                       #For each word this is review \n",
        "    newWord = w                                   #Set newWork to be the updated word \n",
        "    if remove_stopwords and (w in stopwords_en):  #if the word is a stopword & we want to remove stopwords \n",
        "      continue                                    #skip the word and don’t had it to the normalized review \n",
        "    if removePuncs and (w in punctuations):       #if the word is a punc. & we want to remove punctuations \n",
        "      continue                                    #skip the word and don’t had it to the normalized review \n",
        "    if useStemming:\n",
        "      #if useStemming is set to True \n",
        "      #Keep one stemmer commented out \n",
        "      #newWord = porter.stem(newWord) #User porter stemmer \n",
        "      newWord = lancaster.stem(newWord) #Use Lancaster stemmer \n",
        "    if useLemma: \n",
        "      newWord = wordnet_lemmatizer.lemmatize(newWord) \n",
        "    tmpReview.append(newWord)                     #Add normalized word to the tmp review \n",
        "  documents[l] = (tmpReview, label)             #Update the reviews list with clean review \n",
        "  documents[l] = (' '.join(tmpReview), label) \n",
        "\n",
        "print(documents[0])"
      ],
      "execution_count": 104,
      "outputs": [
        {
          "output_type": "stream",
          "text": [
            "('momentum never lets', 4)\n"
          ],
          "name": "stdout"
        }
      ]
    },
    {
      "cell_type": "code",
      "metadata": {
        "id": "InPVUfgzWztX",
        "colab_type": "code",
        "colab": {
          "base_uri": "https://localhost:8080/",
          "height": 204
        },
        "outputId": "5aacc323-52b0-454c-f777-e04243095d17"
      },
      "source": [
        "df = pd.DataFrame(documents, columns=['text', 'sentiment']) \n",
        "df.head()\n",
        "\n"
      ],
      "execution_count": 105,
      "outputs": [
        {
          "output_type": "execute_result",
          "data": {
            "text/html": [
              "<div>\n",
              "<style scoped>\n",
              "    .dataframe tbody tr th:only-of-type {\n",
              "        vertical-align: middle;\n",
              "    }\n",
              "\n",
              "    .dataframe tbody tr th {\n",
              "        vertical-align: top;\n",
              "    }\n",
              "\n",
              "    .dataframe thead th {\n",
              "        text-align: right;\n",
              "    }\n",
              "</style>\n",
              "<table border=\"1\" class=\"dataframe\">\n",
              "  <thead>\n",
              "    <tr style=\"text-align: right;\">\n",
              "      <th></th>\n",
              "      <th>text</th>\n",
              "      <th>sentiment</th>\n",
              "    </tr>\n",
              "  </thead>\n",
              "  <tbody>\n",
              "    <tr>\n",
              "      <th>0</th>\n",
              "      <td>momentum never lets</td>\n",
              "      <td>4</td>\n",
              "    </tr>\n",
              "    <tr>\n",
              "      <th>1</th>\n",
              "      <td>destined 21st Century 's new `` Conan '' 's go...</td>\n",
              "      <td>3</td>\n",
              "    </tr>\n",
              "    <tr>\n",
              "      <th>2</th>\n",
              "      <td>As remake</td>\n",
              "      <td>2</td>\n",
              "    </tr>\n",
              "    <tr>\n",
              "      <th>3</th>\n",
              "      <td>music business 21st Century</td>\n",
              "      <td>2</td>\n",
              "    </tr>\n",
              "    <tr>\n",
              "      <th>4</th>\n",
              "      <td>Everything right Blade</td>\n",
              "      <td>3</td>\n",
              "    </tr>\n",
              "  </tbody>\n",
              "</table>\n",
              "</div>"
            ],
            "text/plain": [
              "                                                text  sentiment\n",
              "0                                momentum never lets          4\n",
              "1  destined 21st Century 's new `` Conan '' 's go...          3\n",
              "2                                          As remake          2\n",
              "3                        music business 21st Century          2\n",
              "4                             Everything right Blade          3"
            ]
          },
          "metadata": {
            "tags": []
          },
          "execution_count": 105
        }
      ]
    },
    {
      "cell_type": "code",
      "metadata": {
        "id": "OSoEouQN83iF",
        "colab_type": "code",
        "colab": {}
      },
      "source": [
        "X_train, X_test, Y_train, Y_test = train_test_split(df['text'],  df['sentiment'], test_size=0.3, random_state=2003)"
      ],
      "execution_count": 0,
      "outputs": []
    },
    {
      "cell_type": "code",
      "metadata": {
        "id": "7gaF2YPvUH7W",
        "colab_type": "code",
        "colab": {}
      },
      "source": [
        "from sklearn.feature_extraction.text import CountVectorizer , TfidfVectorizer\n",
        "from keras.utils import to_categorical\n",
        "\n",
        "vectorizer = TfidfVectorizer(max_features = 2500)#,ngram_range=(2, 2)) \n",
        "X = vectorizer.fit_transform(df[\"text\"]) \n",
        "Y = df['sentiment'] \n",
        " \n",
        "X_train = vectorizer.transform(X_train).toarray()\n",
        "Y_train = Y_train \n",
        "X_test = vectorizer.transform(X_test).toarray()\n",
        "Y_test = Y_test\n"
      ],
      "execution_count": 0,
      "outputs": []
    },
    {
      "cell_type": "code",
      "metadata": {
        "id": "i_mDKmY2WSch",
        "colab_type": "code",
        "colab": {
          "base_uri": "https://localhost:8080/",
          "height": 221
        },
        "outputId": "b3f3eb5b-204e-4301-8a40-94f5ada24dca"
      },
      "source": [
        "Y_test"
      ],
      "execution_count": 108,
      "outputs": [
        {
          "output_type": "execute_result",
          "data": {
            "text/plain": [
              "13510     2\n",
              "61932     1\n",
              "82549     2\n",
              "137718    2\n",
              "121990    2\n",
              "         ..\n",
              "94224     2\n",
              "135456    2\n",
              "154729    2\n",
              "23031     3\n",
              "57870     3\n",
              "Name: sentiment, Length: 46818, dtype: int64"
            ]
          },
          "metadata": {
            "tags": []
          },
          "execution_count": 108
        }
      ]
    },
    {
      "cell_type": "code",
      "metadata": {
        "id": "NGap1DD7UKDW",
        "colab_type": "code",
        "colab": {}
      },
      "source": [
        "# Converts the datasets to numpy arrays to work with our PyTorch model \n",
        "# X_train = np.array(X_train)\n",
        "# X_train = X_train.toarray() \n",
        "# Y_train = np.array(Y_train)\n",
        "\n",
        "# Convert the testing data \n",
        "# X_test = X_test.toarray() \n",
        "# Y_test = np.array(Y_test)\n",
        "# print(x_train_np.shape)"
      ],
      "execution_count": 0,
      "outputs": []
    },
    {
      "cell_type": "code",
      "metadata": {
        "id": "ezvrFic8Uqyy",
        "colab_type": "code",
        "colab": {}
      },
      "source": [
        "import keras\n",
        "from keras.datasets import mnist\n",
        "from keras.models import Sequential\n",
        "from keras.layers import Dense, Dropout, Flatten\n",
        "from keras.layers import Conv1D, MaxPooling1D\n",
        "from keras import backend as K"
      ],
      "execution_count": 0,
      "outputs": []
    },
    {
      "cell_type": "code",
      "metadata": {
        "id": "zmVu-y014oCD",
        "colab_type": "code",
        "colab": {}
      },
      "source": [
        ""
      ],
      "execution_count": 0,
      "outputs": []
    },
    {
      "cell_type": "code",
      "metadata": {
        "id": "Rx8g8sDt2IbI",
        "colab_type": "code",
        "colab": {}
      },
      "source": [
        "\n",
        "def recall_m(y_true, y_pred):\n",
        "    true_positives = K.sum(K.round(K.clip(y_true * y_pred, 0, 1)))\n",
        "    possible_positives = K.sum(K.round(K.clip(y_true, 0, 1)))\n",
        "    recall = true_positives / (possible_positives + K.epsilon())\n",
        "    return recall\n",
        "\n",
        "def precision_m(y_true, y_pred):\n",
        "    true_positives = K.sum(K.round(K.clip(y_true * y_pred, 0, 1)))\n",
        "    predicted_positives = K.sum(K.round(K.clip(y_pred, 0, 1)))\n",
        "    precision = true_positives / (predicted_positives + K.epsilon())\n",
        "    return precision\n",
        "\n",
        "def f1_m(y_true, y_pred):\n",
        "    precision = precision_m(y_true, y_pred)\n",
        "    recall = recall_m(y_true, y_pred)\n",
        "    return 2*((precision*recall)/(precision+recall+K.epsilon()))\n"
      ],
      "execution_count": 0,
      "outputs": []
    },
    {
      "cell_type": "code",
      "metadata": {
        "id": "DfzeNFfVU4rk",
        "colab_type": "code",
        "colab": {}
      },
      "source": [
        "batch_size = 64\n",
        "num_classes = 5\n",
        "epochs = 50"
      ],
      "execution_count": 0,
      "outputs": []
    },
    {
      "cell_type": "code",
      "metadata": {
        "id": "r5AlEWbzSCMP",
        "colab_type": "code",
        "colab": {
          "base_uri": "https://localhost:8080/",
          "height": 34
        },
        "outputId": "b0f2f6e4-6555-4d14-b4ef-5c798ceec498"
      },
      "source": [
        "X_train.shape\n",
        "# Y_train = to_categorical(Y_train,5)\n",
        "# y_test = to_categorical(y_test,5)"
      ],
      "execution_count": 113,
      "outputs": [
        {
          "output_type": "execute_result",
          "data": {
            "text/plain": [
              "(109242, 2500)"
            ]
          },
          "metadata": {
            "tags": []
          },
          "execution_count": 113
        }
      ]
    },
    {
      "cell_type": "code",
      "metadata": {
        "id": "vBxQFt--fHT1",
        "colab_type": "code",
        "colab": {}
      },
      "source": [
        "Y_train = keras.utils.to_categorical(Y_train, num_classes)\n",
        "Y_test = keras.utils.to_categorical(Y_test, num_classes)\n"
      ],
      "execution_count": 0,
      "outputs": []
    },
    {
      "cell_type": "code",
      "metadata": {
        "id": "tXPLB7fDfIQt",
        "colab_type": "code",
        "colab": {
          "base_uri": "https://localhost:8080/",
          "height": 136
        },
        "outputId": "4795a8e5-acc5-45d4-c306-547d551be3c1"
      },
      "source": [
        "Y_test"
      ],
      "execution_count": 115,
      "outputs": [
        {
          "output_type": "execute_result",
          "data": {
            "text/plain": [
              "array([[0., 0., 1., 0., 0.],\n",
              "       [0., 1., 0., 0., 0.],\n",
              "       [0., 0., 1., 0., 0.],\n",
              "       ...,\n",
              "       [0., 0., 1., 0., 0.],\n",
              "       [0., 0., 0., 1., 0.],\n",
              "       [0., 0., 0., 1., 0.]], dtype=float32)"
            ]
          },
          "metadata": {
            "tags": []
          },
          "execution_count": 115
        }
      ]
    },
    {
      "cell_type": "code",
      "metadata": {
        "id": "bL4Ml-k0LhLQ",
        "colab_type": "code",
        "colab": {}
      },
      "source": [
        "\n",
        "from keras.preprocessing import sequence,text\n",
        "from keras.preprocessing.text import Tokenizer\n",
        "from keras.models import Sequential\n",
        "from keras.layers import Input, Dense, Embedding, Flatten\n",
        "from keras.layers import SpatialDropout1D\n",
        "from keras.layers.convolutional import Conv1D, MaxPooling1D\n",
        "from keras.models import Sequential\n"
      ],
      "execution_count": 0,
      "outputs": []
    },
    {
      "cell_type": "code",
      "metadata": {
        "id": "B5ToySXMU87V",
        "colab_type": "code",
        "colab": {}
      },
      "source": [
        "\n",
        "model = Sequential()\n",
        "model.add(Conv1D(filters=64, kernel_size=5,\n",
        "                 activation='relu',\n",
        "                 input_shape=(2500,1)))\n",
        "model.add(Conv1D(128, kernel_size=5, activation='relu'))\n",
        "model.add(MaxPooling1D(pool_size=1))\n",
        "# model.add(Dropout(rate = 0.50))\n",
        "model.add(Flatten())\n",
        "# model.add(Dense(64, activation='relu'))\n",
        "# model.add(Dropout(0.5))\n",
        "model.add(Dense(num_classes, activation='softmax'))\n"
      ],
      "execution_count": 0,
      "outputs": []
    },
    {
      "cell_type": "code",
      "metadata": {
        "id": "HA3I6AgtgMaN",
        "colab_type": "code",
        "colab": {}
      },
      "source": [
        "model.compile(loss=keras.losses.categorical_crossentropy,\n",
        "              optimizer=keras.optimizers.Adadelta(),\n",
        "              metrics=['accuracy',f1_m,precision_m, recall_m])"
      ],
      "execution_count": 0,
      "outputs": []
    },
    {
      "cell_type": "code",
      "metadata": {
        "id": "-rXqFVIQiS-j",
        "colab_type": "code",
        "colab": {}
      },
      "source": [
        "X_train = X_train.reshape(X_train.shape[0], X_train.shape[1], 1)\n",
        "X_test = X_test.reshape(X_test.shape[0], X_test.shape[1], 1)"
      ],
      "execution_count": 0,
      "outputs": []
    },
    {
      "cell_type": "code",
      "metadata": {
        "id": "2sDSZ7J2ViP8",
        "colab_type": "code",
        "colab": {
          "base_uri": "https://localhost:8080/",
          "height": 1000
        },
        "outputId": "443aae8d-337e-46f4-b865-746df63d6291"
      },
      "source": [
        "import time\n",
        "\n",
        "\n",
        "history=model.fit(X_train, Y_train,\n",
        "          batch_size=256,\n",
        "          epochs=50)\n",
        "\n",
        "plt.plot(history.history['loss'])\n",
        "plt.title('model accuracy')\n",
        "plt.ylabel('Loss')\n",
        "plt.xlabel('epoch')\n",
        "plt.legend(['train', 'val'], loc='upper left')\n",
        "plt.show()\n",
        "score = model.evaluate(X_test, Y_test, verbose=0)\n",
        "print('Test loss:', score[0])\n",
        "print('Test accuracy:', score[1])\n",
        "print('Precision:', score[3])\n",
        "print('F1 measure:', score[2])\n",
        "print('Recall:', score[4])\n"
      ],
      "execution_count": 120,
      "outputs": [
        {
          "output_type": "stream",
          "text": [
            "Epoch 1/50\n",
            "109242/109242 [==============================] - 25s 230us/step - loss: 1.1972 - acc: 0.5364 - f1_m: 0.3997 - precision_m: 0.5298 - recall_m: 0.3410\n",
            "Epoch 2/50\n",
            "109242/109242 [==============================] - 25s 225us/step - loss: 1.0332 - acc: 0.5960 - f1_m: 0.5482 - precision_m: 0.6636 - recall_m: 0.4685\n",
            "Epoch 3/50\n",
            "109242/109242 [==============================] - 25s 226us/step - loss: 0.9992 - acc: 0.6073 - f1_m: 0.5660 - precision_m: 0.6705 - recall_m: 0.4905\n",
            "Epoch 4/50\n",
            "109242/109242 [==============================] - 25s 224us/step - loss: 0.9860 - acc: 0.6129 - f1_m: 0.5741 - precision_m: 0.6752 - recall_m: 0.4999\n",
            "Epoch 5/50\n",
            "109242/109242 [==============================] - 24s 224us/step - loss: 0.9786 - acc: 0.6142 - f1_m: 0.5765 - precision_m: 0.6749 - recall_m: 0.5037\n",
            "Epoch 6/50\n",
            "109242/109242 [==============================] - 24s 224us/step - loss: 0.9730 - acc: 0.6157 - f1_m: 0.5779 - precision_m: 0.6770 - recall_m: 0.5047\n",
            "Epoch 7/50\n",
            "109242/109242 [==============================] - 25s 225us/step - loss: 0.9674 - acc: 0.6187 - f1_m: 0.5820 - precision_m: 0.6784 - recall_m: 0.5101\n",
            "Epoch 8/50\n",
            "109242/109242 [==============================] - 24s 224us/step - loss: 0.9625 - acc: 0.6221 - f1_m: 0.5860 - precision_m: 0.6801 - recall_m: 0.5153\n",
            "Epoch 9/50\n",
            "109242/109242 [==============================] - 24s 224us/step - loss: 0.9576 - acc: 0.6232 - f1_m: 0.5901 - precision_m: 0.6815 - recall_m: 0.5209\n",
            "Epoch 10/50\n",
            "109242/109242 [==============================] - 24s 223us/step - loss: 0.9520 - acc: 0.6259 - f1_m: 0.5939 - precision_m: 0.6828 - recall_m: 0.5260\n",
            "Epoch 11/50\n",
            "109242/109242 [==============================] - 24s 223us/step - loss: 0.9474 - acc: 0.6284 - f1_m: 0.5976 - precision_m: 0.6843 - recall_m: 0.5307\n",
            "Epoch 12/50\n",
            "109242/109242 [==============================] - 24s 223us/step - loss: 0.9432 - acc: 0.6298 - f1_m: 0.6009 - precision_m: 0.6855 - recall_m: 0.5352\n",
            "Epoch 13/50\n",
            "109242/109242 [==============================] - 24s 223us/step - loss: 0.9396 - acc: 0.6306 - f1_m: 0.6019 - precision_m: 0.6862 - recall_m: 0.5365\n",
            "Epoch 14/50\n",
            "109242/109242 [==============================] - 24s 223us/step - loss: 0.9358 - acc: 0.6340 - f1_m: 0.6034 - precision_m: 0.6865 - recall_m: 0.5386\n",
            "Epoch 15/50\n",
            "109242/109242 [==============================] - 24s 223us/step - loss: 0.9329 - acc: 0.6341 - f1_m: 0.6059 - precision_m: 0.6875 - recall_m: 0.5420\n",
            "Epoch 16/50\n",
            "109242/109242 [==============================] - 24s 223us/step - loss: 0.9297 - acc: 0.6362 - f1_m: 0.6078 - precision_m: 0.6879 - recall_m: 0.5448\n",
            "Epoch 17/50\n",
            "109242/109242 [==============================] - 24s 223us/step - loss: 0.9261 - acc: 0.6368 - f1_m: 0.6107 - precision_m: 0.6895 - recall_m: 0.5483\n",
            "Epoch 18/50\n",
            "109242/109242 [==============================] - 24s 223us/step - loss: 0.9226 - acc: 0.6385 - f1_m: 0.6115 - precision_m: 0.6904 - recall_m: 0.5492\n",
            "Epoch 19/50\n",
            "109242/109242 [==============================] - 24s 223us/step - loss: 0.9200 - acc: 0.6391 - f1_m: 0.6131 - precision_m: 0.6917 - recall_m: 0.5510\n",
            "Epoch 20/50\n",
            "109242/109242 [==============================] - 24s 224us/step - loss: 0.9170 - acc: 0.6406 - f1_m: 0.6143 - precision_m: 0.6918 - recall_m: 0.5529\n",
            "Epoch 21/50\n",
            "109242/109242 [==============================] - 24s 223us/step - loss: 0.9139 - acc: 0.6420 - f1_m: 0.6160 - precision_m: 0.6924 - recall_m: 0.5551\n",
            "Epoch 22/50\n",
            "109242/109242 [==============================] - 24s 224us/step - loss: 0.9115 - acc: 0.6421 - f1_m: 0.6173 - precision_m: 0.6934 - recall_m: 0.5565\n",
            "Epoch 23/50\n",
            "109242/109242 [==============================] - 24s 223us/step - loss: 0.9087 - acc: 0.6432 - f1_m: 0.6186 - precision_m: 0.6932 - recall_m: 0.5588\n",
            "Epoch 24/50\n",
            "109242/109242 [==============================] - 24s 223us/step - loss: 0.9063 - acc: 0.6447 - f1_m: 0.6202 - precision_m: 0.6952 - recall_m: 0.5601\n",
            "Epoch 25/50\n",
            "109242/109242 [==============================] - 24s 223us/step - loss: 0.9044 - acc: 0.6449 - f1_m: 0.6219 - precision_m: 0.6955 - recall_m: 0.5626\n",
            "Epoch 26/50\n",
            "109242/109242 [==============================] - 24s 223us/step - loss: 0.9021 - acc: 0.6454 - f1_m: 0.6218 - precision_m: 0.6953 - recall_m: 0.5627\n",
            "Epoch 27/50\n",
            "109242/109242 [==============================] - 24s 223us/step - loss: 0.9005 - acc: 0.6465 - f1_m: 0.6234 - precision_m: 0.6956 - recall_m: 0.5651\n",
            "Epoch 28/50\n",
            "109242/109242 [==============================] - 24s 223us/step - loss: 0.8984 - acc: 0.6478 - f1_m: 0.6234 - precision_m: 0.6957 - recall_m: 0.5650\n",
            "Epoch 29/50\n",
            "109242/109242 [==============================] - 24s 223us/step - loss: 0.8966 - acc: 0.6490 - f1_m: 0.6239 - precision_m: 0.6953 - recall_m: 0.5662\n",
            "Epoch 30/50\n",
            "109242/109242 [==============================] - 24s 223us/step - loss: 0.8948 - acc: 0.6482 - f1_m: 0.6257 - precision_m: 0.6968 - recall_m: 0.5681\n",
            "Epoch 31/50\n",
            "109242/109242 [==============================] - 24s 223us/step - loss: 0.8930 - acc: 0.6492 - f1_m: 0.6264 - precision_m: 0.6977 - recall_m: 0.5686\n",
            "Epoch 32/50\n",
            "109242/109242 [==============================] - 24s 223us/step - loss: 0.8910 - acc: 0.6501 - f1_m: 0.6266 - precision_m: 0.6970 - recall_m: 0.5694\n",
            "Epoch 33/50\n",
            "109242/109242 [==============================] - 24s 223us/step - loss: 0.8894 - acc: 0.6517 - f1_m: 0.6284 - precision_m: 0.6987 - recall_m: 0.5713\n",
            "Epoch 34/50\n",
            "109242/109242 [==============================] - 24s 224us/step - loss: 0.8876 - acc: 0.6518 - f1_m: 0.6294 - precision_m: 0.6989 - recall_m: 0.5728\n",
            "Epoch 35/50\n",
            "109242/109242 [==============================] - 24s 223us/step - loss: 0.8860 - acc: 0.6524 - f1_m: 0.6307 - precision_m: 0.7004 - recall_m: 0.5740\n",
            "Epoch 36/50\n",
            "109242/109242 [==============================] - 24s 223us/step - loss: 0.8838 - acc: 0.6538 - f1_m: 0.6309 - precision_m: 0.7003 - recall_m: 0.5744\n",
            "Epoch 37/50\n",
            "109242/109242 [==============================] - 24s 223us/step - loss: 0.8821 - acc: 0.6535 - f1_m: 0.6317 - precision_m: 0.7000 - recall_m: 0.5759\n",
            "Epoch 38/50\n",
            "109242/109242 [==============================] - 24s 223us/step - loss: 0.8804 - acc: 0.6546 - f1_m: 0.6324 - precision_m: 0.7002 - recall_m: 0.5769\n",
            "Epoch 39/50\n",
            "109242/109242 [==============================] - 24s 223us/step - loss: 0.8790 - acc: 0.6551 - f1_m: 0.6338 - precision_m: 0.7012 - recall_m: 0.5786\n",
            "Epoch 40/50\n",
            "109242/109242 [==============================] - 24s 223us/step - loss: 0.8777 - acc: 0.6548 - f1_m: 0.6338 - precision_m: 0.7010 - recall_m: 0.5787\n",
            "Epoch 41/50\n",
            "109242/109242 [==============================] - 24s 224us/step - loss: 0.8753 - acc: 0.6569 - f1_m: 0.6355 - precision_m: 0.7024 - recall_m: 0.5805\n",
            "Epoch 42/50\n",
            "109242/109242 [==============================] - 24s 223us/step - loss: 0.8737 - acc: 0.6579 - f1_m: 0.6361 - precision_m: 0.7025 - recall_m: 0.5814\n",
            "Epoch 43/50\n",
            "109242/109242 [==============================] - 25s 225us/step - loss: 0.8714 - acc: 0.6582 - f1_m: 0.6368 - precision_m: 0.7033 - recall_m: 0.5821\n",
            "Epoch 44/50\n",
            "109242/109242 [==============================] - 25s 227us/step - loss: 0.8703 - acc: 0.6590 - f1_m: 0.6385 - precision_m: 0.7035 - recall_m: 0.5848\n",
            "Epoch 45/50\n",
            "109242/109242 [==============================] - 25s 225us/step - loss: 0.8690 - acc: 0.6595 - f1_m: 0.6390 - precision_m: 0.7048 - recall_m: 0.5847\n",
            "Epoch 46/50\n",
            "109242/109242 [==============================] - 25s 225us/step - loss: 0.8674 - acc: 0.6593 - f1_m: 0.6391 - precision_m: 0.7042 - recall_m: 0.5853\n",
            "Epoch 47/50\n",
            "109242/109242 [==============================] - 25s 226us/step - loss: 0.8662 - acc: 0.6603 - f1_m: 0.6397 - precision_m: 0.7039 - recall_m: 0.5865\n",
            "Epoch 48/50\n",
            "109242/109242 [==============================] - 25s 224us/step - loss: 0.8640 - acc: 0.6615 - f1_m: 0.6412 - precision_m: 0.7057 - recall_m: 0.5878\n",
            "Epoch 49/50\n",
            "109242/109242 [==============================] - 25s 225us/step - loss: 0.8623 - acc: 0.6606 - f1_m: 0.6415 - precision_m: 0.7054 - recall_m: 0.5885\n",
            "Epoch 50/50\n",
            "109242/109242 [==============================] - 24s 224us/step - loss: 0.8608 - acc: 0.6618 - f1_m: 0.6428 - precision_m: 0.7067 - recall_m: 0.5897\n"
          ],
          "name": "stdout"
        },
        {
          "output_type": "display_data",
          "data": {
            "image/png": "[encoded data removed]",
            "text/plain": [
              "<Figure size 432x288 with 1 Axes>"
            ]
          },
          "metadata": {
            "tags": []
          }
        },
        {
          "output_type": "stream",
          "text": [
            "Test loss: 1.0148107373448112\n",
            "Test accuracy: 0.6126276218548422\n",
            "Precision: 0.6527347816060867\n",
            "F1 measure: 0.5869592810167018\n",
            "Recall: 0.5347943098808151\n"
          ],
          "name": "stdout"
        }
      ]
    },
    {
      "cell_type": "code",
      "metadata": {
        "id": "zIWGmcD2hYxW",
        "colab_type": "code",
        "colab": {
          "base_uri": "https://localhost:8080/",
          "height": 54
        },
        "outputId": "490e05de-be07-4461-aa47-b4a113dd22cc"
      },
      "source": [
        "from google.colab import drive\n",
        "drive.mount('/content/drive')"
      ],
      "execution_count": 121,
      "outputs": [
        {
          "output_type": "stream",
          "text": [
            "Drive already mounted at /content/drive; to attempt to forcibly remount, call drive.mount(\"/content/drive\", force_remount=True).\n"
          ],
          "name": "stdout"
        }
      ]
    },
    {
      "cell_type": "code",
      "metadata": {
        "id": "o2hc-0qXhCtx",
        "colab_type": "code",
        "colab": {}
      },
      "source": [
        "model.save('/content/drive/My Drive/1111102.h5')"
      ],
      "execution_count": 0,
      "outputs": []
    }
  ]
}